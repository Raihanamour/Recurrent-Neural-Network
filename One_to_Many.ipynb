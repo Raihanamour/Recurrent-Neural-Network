{
  "nbformat": 4,
  "nbformat_minor": 0,
  "metadata": {
    "colab": {
      "provenance": []
    },
    "kernelspec": {
      "name": "python3",
      "display_name": "Python 3"
    },
    "language_info": {
      "name": "python"
    }
  },
  "cells": [
    {
      "cell_type": "code",
      "execution_count": 1,
      "metadata": {
        "colab": {
          "base_uri": "https://localhost:8080/"
        },
        "id": "7HU3c_pVG_AV",
        "outputId": "050acb27-6611-4820-9240-9b660f71f00b"
      },
      "outputs": [
        {
          "output_type": "stream",
          "name": "stdout",
          "text": [
            "Collecting keras-tuner\n",
            "  Downloading keras_tuner-1.4.6-py3-none-any.whl (128 kB)\n",
            "\u001b[2K     \u001b[90m━━━━━━━━━━━━━━━━━━━━━━━━━━━━━━━━━━━━━━━━\u001b[0m \u001b[32m128.9/128.9 kB\u001b[0m \u001b[31m2.9 MB/s\u001b[0m eta \u001b[36m0:00:00\u001b[0m\n",
            "\u001b[?25hRequirement already satisfied: keras in /usr/local/lib/python3.10/dist-packages (from keras-tuner) (2.14.0)\n",
            "Requirement already satisfied: packaging in /usr/local/lib/python3.10/dist-packages (from keras-tuner) (23.2)\n",
            "Requirement already satisfied: requests in /usr/local/lib/python3.10/dist-packages (from keras-tuner) (2.31.0)\n",
            "Collecting kt-legacy (from keras-tuner)\n",
            "  Downloading kt_legacy-1.0.5-py3-none-any.whl (9.6 kB)\n",
            "Requirement already satisfied: charset-normalizer<4,>=2 in /usr/local/lib/python3.10/dist-packages (from requests->keras-tuner) (3.3.2)\n",
            "Requirement already satisfied: idna<4,>=2.5 in /usr/local/lib/python3.10/dist-packages (from requests->keras-tuner) (3.6)\n",
            "Requirement already satisfied: urllib3<3,>=1.21.1 in /usr/local/lib/python3.10/dist-packages (from requests->keras-tuner) (2.0.7)\n",
            "Requirement already satisfied: certifi>=2017.4.17 in /usr/local/lib/python3.10/dist-packages (from requests->keras-tuner) (2023.11.17)\n",
            "Installing collected packages: kt-legacy, keras-tuner\n",
            "Successfully installed keras-tuner-1.4.6 kt-legacy-1.0.5\n"
          ]
        }
      ],
      "source": [
        "!pip install -U keras-tuner"
      ]
    },
    {
      "cell_type": "code",
      "source": [
        "import numpy as np\n",
        "import tensorflow as tf\n",
        "from tensorflow.keras.models import Sequential\n",
        "from tensorflow.keras.layers import SimpleRNN, Dense, RepeatVector, TimeDistributed\n"
      ],
      "metadata": {
        "id": "XRugqiVcHg2F"
      },
      "execution_count": 2,
      "outputs": []
    },
    {
      "cell_type": "code",
      "source": [
        "# Generate data\n",
        "np.random.seed(42)\n",
        "sequence_length = 10\n",
        "input_sequence = np.random.rand(sequence_length, 1)\n",
        "target_sequence = np.sin(np.arange(0, sequence_length) * 0.1)"
      ],
      "metadata": {
        "id": "x7AIEdI0H8WK"
      },
      "execution_count": 3,
      "outputs": []
    },
    {
      "cell_type": "code",
      "source": [
        "# Reshaping input sequence\n",
        "input_sequence = input_sequence.reshape(1, sequence_length, 1)\n",
        "\n"
      ],
      "metadata": {
        "id": "IFPMHR0ZIDYx"
      },
      "execution_count": 6,
      "outputs": []
    },
    {
      "cell_type": "code",
      "source": [
        "# Build Model\n",
        "model = Sequential()\n",
        "model.add(SimpleRNN(10, input_shape=(sequence_length, 1), return_sequences=True))\n",
        "model.add(Dense(1))"
      ],
      "metadata": {
        "id": "s9ffAYz1IHj8"
      },
      "execution_count": 7,
      "outputs": []
    },
    {
      "cell_type": "code",
      "source": [
        "# compile model\n",
        "model.compile(optimizer='adam',loss='mse')"
      ],
      "metadata": {
        "id": "mmz95Co5IPn4"
      },
      "execution_count": 8,
      "outputs": []
    },
    {
      "cell_type": "code",
      "source": [
        "# Reshape target Sequence\n",
        "target_sequence = target_sequence.reshape(1, sequence_length, 1)\n"
      ],
      "metadata": {
        "id": "K4uRxWihJei-"
      },
      "execution_count": 10,
      "outputs": []
    },
    {
      "cell_type": "code",
      "source": [
        "# Train the model\n",
        "model.fit(input_sequence, target_sequence, epochs=100, verbose=0)\n"
      ],
      "metadata": {
        "colab": {
          "base_uri": "https://localhost:8080/"
        },
        "id": "q8SjtitUIZ4k",
        "outputId": "91740774-b2a0-410c-f029-a39d91df82f5"
      },
      "execution_count": 11,
      "outputs": [
        {
          "output_type": "execute_result",
          "data": {
            "text/plain": [
              "<keras.src.callbacks.History at 0x7ea6fa700a30>"
            ]
          },
          "metadata": {},
          "execution_count": 11
        }
      ]
    },
    {
      "cell_type": "code",
      "source": [
        "predicted_sequence = model.predict(input_sequence)\n"
      ],
      "metadata": {
        "colab": {
          "base_uri": "https://localhost:8080/"
        },
        "id": "UWSQJztoIy7T",
        "outputId": "bca23685-b797-41c1-b8a3-03a0dca2bc52"
      },
      "execution_count": 12,
      "outputs": [
        {
          "output_type": "stream",
          "name": "stdout",
          "text": [
            "1/1 [==============================] - 0s 285ms/step\n"
          ]
        }
      ]
    },
    {
      "cell_type": "code",
      "source": [
        "# Results\n",
        "print(\"Input Sequence:\")\n",
        "print(input_sequence.flatten())\n",
        "\n",
        "print(\"Target Sequence:\")\n",
        "print(target_sequence)\n",
        "\n",
        "print(\"Predicted Sequence:\")\n",
        "print(predicted_sequence.flatten())"
      ],
      "metadata": {
        "colab": {
          "base_uri": "https://localhost:8080/"
        },
        "id": "UHtlSDCnJvfq",
        "outputId": "d9423cf0-4cf5-459e-b4e1-6f1ea2eefe16"
      },
      "execution_count": 13,
      "outputs": [
        {
          "output_type": "stream",
          "name": "stdout",
          "text": [
            "Input Sequence:\n",
            "[0.37454012 0.95071431 0.73199394 0.59865848 0.15601864 0.15599452\n",
            " 0.05808361 0.86617615 0.60111501 0.70807258]\n",
            "Target Sequence:\n",
            "[[[0.        ]\n",
            "  [0.09983342]\n",
            "  [0.19866933]\n",
            "  [0.29552021]\n",
            "  [0.38941834]\n",
            "  [0.47942554]\n",
            "  [0.56464247]\n",
            "  [0.64421769]\n",
            "  [0.71735609]\n",
            "  [0.78332691]]]\n",
            "Predicted Sequence:\n",
            "[0.03386258 0.1704493  0.12328069 0.29858768 0.46417427 0.55943626\n",
            " 0.56969035 0.64176595 0.6384545  0.7604713 ]\n"
          ]
        }
      ]
    },
    {
      "cell_type": "code",
      "source": [],
      "metadata": {
        "id": "ev67eSl6J5N9"
      },
      "execution_count": null,
      "outputs": []
    }
  ]
}