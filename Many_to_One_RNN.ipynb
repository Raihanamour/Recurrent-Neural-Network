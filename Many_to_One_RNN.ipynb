{
  "nbformat": 4,
  "nbformat_minor": 0,
  "metadata": {
    "colab": {
      "provenance": []
    },
    "kernelspec": {
      "name": "python3",
      "display_name": "Python 3"
    },
    "language_info": {
      "name": "python"
    }
  },
  "cells": [
    {
      "cell_type": "code",
      "execution_count": 3,
      "metadata": {
        "colab": {
          "base_uri": "https://localhost:8080/"
        },
        "id": "rX3PX_JE-hGy",
        "outputId": "050f70d6-a7c3-4651-bd9e-b9b4d595dc24"
      },
      "outputs": [
        {
          "output_type": "stream",
          "name": "stdout",
          "text": [
            "Collecting keras-tuner\n",
            "  Downloading keras_tuner-1.4.6-py3-none-any.whl (128 kB)\n",
            "\u001b[?25l     \u001b[90m━━━━━━━━━━━━━━━━━━━━━━━━━━━━━━━━━━━━━━━━\u001b[0m \u001b[32m0.0/128.9 kB\u001b[0m \u001b[31m?\u001b[0m eta \u001b[36m-:--:--\u001b[0m\r\u001b[2K     \u001b[90m━━━━━━━━━━━━━━━━━━━━━━━━━━━━━━━━━━━━━━━━\u001b[0m \u001b[32m128.9/128.9 kB\u001b[0m \u001b[31m3.9 MB/s\u001b[0m eta \u001b[36m0:00:00\u001b[0m\n",
            "\u001b[?25hRequirement already satisfied: keras in /usr/local/lib/python3.10/dist-packages (from keras-tuner) (2.14.0)\n",
            "Requirement already satisfied: packaging in /usr/local/lib/python3.10/dist-packages (from keras-tuner) (23.2)\n",
            "Requirement already satisfied: requests in /usr/local/lib/python3.10/dist-packages (from keras-tuner) (2.31.0)\n",
            "Collecting kt-legacy (from keras-tuner)\n",
            "  Downloading kt_legacy-1.0.5-py3-none-any.whl (9.6 kB)\n",
            "Requirement already satisfied: charset-normalizer<4,>=2 in /usr/local/lib/python3.10/dist-packages (from requests->keras-tuner) (3.3.2)\n",
            "Requirement already satisfied: idna<4,>=2.5 in /usr/local/lib/python3.10/dist-packages (from requests->keras-tuner) (3.6)\n",
            "Requirement already satisfied: urllib3<3,>=1.21.1 in /usr/local/lib/python3.10/dist-packages (from requests->keras-tuner) (2.0.7)\n",
            "Requirement already satisfied: certifi>=2017.4.17 in /usr/local/lib/python3.10/dist-packages (from requests->keras-tuner) (2023.11.17)\n",
            "Installing collected packages: kt-legacy, keras-tuner\n",
            "Successfully installed keras-tuner-1.4.6 kt-legacy-1.0.5\n"
          ]
        }
      ],
      "source": [
        "!pip install -U keras-tuner"
      ]
    },
    {
      "cell_type": "code",
      "source": [
        "import tensorflow as tf\n",
        "from tensorflow.keras.preprocessing import sequence\n",
        "from tensorflow.keras.datasets import imdb\n",
        "from tensorflow.keras.models import Sequential\n",
        "from tensorflow.keras.layers import Embedding,Dense,SimpleRNN\n"
      ],
      "metadata": {
        "id": "2S_Qqmp-_TPt"
      },
      "execution_count": 20,
      "outputs": []
    },
    {
      "cell_type": "code",
      "source": [
        "# Load imdb dataset\n",
        "max_features = 10000\n",
        "maxlen = 200\n",
        "batch_size = 32\n",
        "\n",
        "print(\"loading data.....\")\n",
        "(X_train,y_train),(X_test,y_test)= imdb.load_data(num_words=max_features)"
      ],
      "metadata": {
        "colab": {
          "base_uri": "https://localhost:8080/"
        },
        "id": "EWDZ2u7GAQW0",
        "outputId": "ad1fe2c7-f3ee-432e-9837-7a802403fd77"
      },
      "execution_count": 22,
      "outputs": [
        {
          "output_type": "stream",
          "name": "stdout",
          "text": [
            "loading data.....\n"
          ]
        }
      ]
    },
    {
      "cell_type": "code",
      "source": [
        "print('len of Train data',len(X_train))\n",
        "print('len of Test data',len(X_test))"
      ],
      "metadata": {
        "colab": {
          "base_uri": "https://localhost:8080/"
        },
        "id": "oprJLu_VA2a5",
        "outputId": "5689a107-e5fc-46d9-832b-4b14f827dfdb"
      },
      "execution_count": 23,
      "outputs": [
        {
          "output_type": "stream",
          "name": "stdout",
          "text": [
            "len of Train data 25000\n",
            "len of Test data 25000\n"
          ]
        }
      ]
    },
    {
      "cell_type": "code",
      "source": [
        "# Padding sequences to a fixed length\n",
        "\n",
        "X_train = sequence.pad_sequences(X_train,maxlen=maxlen)\n",
        "X_test = sequence.pad_sequences(X_test,maxlen=maxlen)"
      ],
      "metadata": {
        "id": "oMU8dclbBHp0"
      },
      "execution_count": 24,
      "outputs": []
    },
    {
      "cell_type": "code",
      "source": [
        "X_train.shape"
      ],
      "metadata": {
        "colab": {
          "base_uri": "https://localhost:8080/"
        },
        "id": "siwJ-ZhvBmdD",
        "outputId": "b573dc3e-7cf2-40d5-e0a1-9ab9785a130c"
      },
      "execution_count": 25,
      "outputs": [
        {
          "output_type": "execute_result",
          "data": {
            "text/plain": [
              "(25000, 200)"
            ]
          },
          "metadata": {},
          "execution_count": 25
        }
      ]
    },
    {
      "cell_type": "code",
      "source": [
        "X_test.shape"
      ],
      "metadata": {
        "colab": {
          "base_uri": "https://localhost:8080/"
        },
        "id": "msOk4QReCGrw",
        "outputId": "1790666c-de34-4eb4-c752-dfd09065ec15"
      },
      "execution_count": 26,
      "outputs": [
        {
          "output_type": "execute_result",
          "data": {
            "text/plain": [
              "(25000, 200)"
            ]
          },
          "metadata": {},
          "execution_count": 26
        }
      ]
    },
    {
      "cell_type": "code",
      "source": [
        "# Build many to one RNN\n",
        "model = Sequential()\n",
        "model.add(Embedding(max_features,32))\n",
        "model.add(SimpleRNN(32))\n",
        "model.add(Dense(1,activation='sigmoid'))\n"
      ],
      "metadata": {
        "id": "UYDTqJE2CMNa"
      },
      "execution_count": 27,
      "outputs": []
    },
    {
      "cell_type": "code",
      "source": [
        "# Compile model\n",
        "model.compile(optimizer='adam',loss='binary_crossentropy', metrics = ['accuracy'])"
      ],
      "metadata": {
        "id": "Kn8W_rgODLna"
      },
      "execution_count": 33,
      "outputs": []
    },
    {
      "cell_type": "code",
      "source": [
        "# Training model\n",
        "model.fit(X_train,y_train, epochs=5, batch_size=batch_size, validation_split=0.2)"
      ],
      "metadata": {
        "colab": {
          "base_uri": "https://localhost:8080/"
        },
        "id": "2aJIX_5-DhHC",
        "outputId": "fafe0552-912f-400a-ddee-6a110417f020"
      },
      "execution_count": 34,
      "outputs": [
        {
          "output_type": "stream",
          "name": "stdout",
          "text": [
            "Epoch 1/5\n",
            "625/625 [==============================] - 28s 44ms/step - loss: 0.6146 - accuracy: 0.6395 - val_loss: 0.5061 - val_accuracy: 0.7566\n",
            "Epoch 2/5\n",
            "625/625 [==============================] - 27s 43ms/step - loss: 0.3707 - accuracy: 0.8415 - val_loss: 0.4236 - val_accuracy: 0.8228\n",
            "Epoch 3/5\n",
            "625/625 [==============================] - 27s 43ms/step - loss: 0.2397 - accuracy: 0.9049 - val_loss: 0.5028 - val_accuracy: 0.7954\n",
            "Epoch 4/5\n",
            "625/625 [==============================] - 27s 43ms/step - loss: 0.1266 - accuracy: 0.9563 - val_loss: 0.5994 - val_accuracy: 0.7788\n",
            "Epoch 5/5\n",
            "625/625 [==============================] - 26s 42ms/step - loss: 0.0645 - accuracy: 0.9795 - val_loss: 0.6126 - val_accuracy: 0.8126\n"
          ]
        },
        {
          "output_type": "execute_result",
          "data": {
            "text/plain": [
              "<keras.src.callbacks.History at 0x7f9142f162c0>"
            ]
          },
          "metadata": {},
          "execution_count": 34
        }
      ]
    },
    {
      "cell_type": "code",
      "source": [
        "# Evaluate the model\n",
        "\n",
        "loss,accuracy = model.evaluate(X_test,y_test,batch_size=batch_size)"
      ],
      "metadata": {
        "colab": {
          "base_uri": "https://localhost:8080/"
        },
        "id": "ZsR2AZJ4D7q2",
        "outputId": "96ebf307-59a2-41db-a71e-3e6063fec69e"
      },
      "execution_count": 35,
      "outputs": [
        {
          "output_type": "stream",
          "name": "stdout",
          "text": [
            "782/782 [==============================] - 9s 11ms/step - loss: 0.6068 - accuracy: 0.8076\n"
          ]
        }
      ]
    },
    {
      "cell_type": "code",
      "source": [
        "print('Loss: ', loss)\n",
        "print('Accuracy: ', accuracy)"
      ],
      "metadata": {
        "colab": {
          "base_uri": "https://localhost:8080/"
        },
        "id": "-srCKje4GfKt",
        "outputId": "d8f5a6e5-aedc-4cc5-8f4d-4bdafa8e8b9e"
      },
      "execution_count": 36,
      "outputs": [
        {
          "output_type": "stream",
          "name": "stdout",
          "text": [
            "Loss:  0.606825053691864\n",
            "Accuracy:  0.8075600266456604\n"
          ]
        }
      ]
    },
    {
      "cell_type": "code",
      "source": [],
      "metadata": {
        "id": "LjlfsEayGuy-"
      },
      "execution_count": null,
      "outputs": []
    }
  ]
}